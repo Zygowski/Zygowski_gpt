{
 "cells": [
  {
   "cell_type": "markdown",
   "id": "a341d95d",
   "metadata": {},
   "source": [
    "# Tworzymy system zarządzania pamięcią dla NaszGPT\n",
    "\n",
    "```\n",
    "db/\n",
    "├── current.json\n",
    "├── conversations/\n",
    "│   ├── 1.json\n",
    "│   ├── 2.json\n",
    "│   └── ...\n",
    "```\n",
    "\n",
    "tutaj utrzymy strukturę gdzie główny katalog nazwiemy `db_prototyp`"
   ]
  },
  {
   "cell_type": "code",
   "execution_count": 4,
   "id": "d78a61f0",
   "metadata": {},
   "outputs": [],
   "source": [
    "from pathlib import Path\n",
    "import json"
   ]
  },
  {
   "cell_type": "code",
   "execution_count": 5,
   "id": "cfada093",
   "metadata": {},
   "outputs": [],
   "source": [
    "DB_PATH = Path(\"db_prototyp\") # tworzymy folder na bazę danych\n",
    "DB_CONVERSATIONS_PATH = DB_PATH / \"conversations\" # tworzymy folder na rozmowy"
   ]
  },
  {
   "cell_type": "markdown",
   "id": "27377f2f",
   "metadata": {},
   "source": [
    "## Jak upewnić się, że wszystkie katalogi istnieją?"
   ]
  },
  {
   "cell_type": "code",
   "execution_count": 6,
   "id": "02939478",
   "metadata": {},
   "outputs": [],
   "source": [
    "if not DB_PATH.exists(): # jeżeli katalog db path nie istnieje \n",
    "    DB_PATH.mkdir() # to go utwórz\n",
    "    DB_CONVERSATIONS_PATH.mkdir() # utwórz również katalog na rozmowy"
   ]
  },
  {
   "cell_type": "markdown",
   "id": "ddcdee5d",
   "metadata": {},
   "source": [
    "## Jaką strukturę chcemy zapisywać w naszej bazie danych?\n",
    "\n",
    "```json\n",
    "{\n",
    "    \"id\": 1,\n",
    "    \"name\": \"Nazwa rozmowy\",\n",
    "    \"chatbot_personality\": \"osobość chatbota\",\n",
    "    \"messages\": [\n",
    "        {\n",
    "            \"role\": \"user\",\n",
    "            \"content\": \"Cześć\",\n",
    "        },\n",
    "        {\n",
    "            \"role\": \"assistant\",\n",
    "            \"content\": \"Cześć, jak mogę Ci pomóc?\",\n",
    "            \"usage\": {\n",
    "                \"completion_tokens\": 13,\n",
    "                \"prompt_tokens\": 23,\n",
    "                \"total_tokens\": 36                \n",
    "            }\n",
    "        }\n",
    "    ]\n",
    "}\n",
    "```"
   ]
  },
  {
   "cell_type": "markdown",
   "id": "b5efd595",
   "metadata": {},
   "source": [
    "## Jak jest domyślna wartość dla nowo utworzonej rozmowy?\n",
    "\n",
    "```json\n",
    "{\n",
    "    \"id\": 1,\n",
    "    \"name\": \"Konwersacja 1\",\n",
    "    \"chatbot_personality\": \"osobość chatbota...\",\n",
    "    \"messages\": []\n",
    "}\n",
    "```"
   ]
  },
  {
   "cell_type": "markdown",
   "id": "288c49e3",
   "metadata": {},
   "source": [
    "## Jak upewnić się, że istnieje początkowa rozmowa i jest ona aktywna?\n",
    "\n",
    "Chcemy aby po stracie NaszGPT było utworzone:\n",
    "\n",
    "```\n",
    "db/\n",
    "├── current.json\n",
    "├── conversations/\n",
    "│   └── 1.json\n",
    "│    ...\n",
    "```"
   ]
  },
  {
   "cell_type": "code",
   "execution_count": 7,
   "id": "3e9f639b",
   "metadata": {},
   "outputs": [],
   "source": [
    "DEFAULT_PERSONALITY = \"\"\"\n",
    "Jesteś pomocnikiem, który odpowiada na wszystkie pytania użytkownika.\n",
    "Odpowiadaj na pytania w sposób zwięzły i zrozumiały.\n",
    "\"\"\".strip()\n",
    "\n",
    "if not DB_PATH.exists():\n",
    "    DB_PATH.mkdir()\n",
    "    DB_CONVERSATIONS_PATH.mkdir()\n",
    "    conversation_id = 1\n",
    "    conversation_name = \"Konwersacja 1\"\n",
    "\n",
    "    # tworzymy nową konwersację\n",
    "    with open(DB_CONVERSATIONS_PATH / f\"{conversation_id}.json\", \"w\") as f:\n",
    "        f.write(json.dumps({\n",
    "            \"id\": conversation_id,\n",
    "            \"name\": conversation_name,\n",
    "            \"chatbot_personality\": DEFAULT_PERSONALITY,\n",
    "            \"messages\": [],\n",
    "        }))\n",
    "\n",
    "    # która od razu staje się aktualną\n",
    "    with open(DB_PATH / \"current.json\", \"w\") as f:\n",
    "        f.write(json.dumps({\n",
    "            \"current_conversation_id\": conversation_id,\n",
    "        }))"
   ]
  },
  {
   "cell_type": "markdown",
   "id": "a1f3827a",
   "metadata": {},
   "source": [
    "## Jak wczytać istniejące rozmową?\n"
   ]
  },
  {
   "cell_type": "code",
   "execution_count": 8,
   "id": "6f1abad2",
   "metadata": {},
   "outputs": [],
   "source": [
    "# stwórzmy jakąś prostą konwersację i ustawmy ją jako aktualną\n",
    "with open(DB_CONVERSATIONS_PATH / \"13.json\", \"w\") as f:\n",
    "    f.write(json.dumps({\n",
    "        \"id\": 13,\n",
    "        \"name\": \"Konwersacja 13\",\n",
    "        \"chatbot_personality\": DEFAULT_PERSONALITY,\n",
    "        \"messages\": [\n",
    "            {\n",
    "                \"author\": \"user\",\n",
    "                \"content\": \"Cześć! Chciałbym się dowiedzieć, jakie są zasady gry w szachy.\",\n",
    "            },\n",
    "            {\n",
    "                \"author\": \"assistant\",\n",
    "                \"content\": \"Zasady gry w szachy są bardzo proste. Czy chcesz, żebym je opisał?\",\n",
    "                \"usage\": {\n",
    "                    \"completion_tokens\": 13,\n",
    "                    \"prompt_tokens\": 23,\n",
    "                    \"total_tokens\": 36\n",
    "                }\n",
    "            },\n",
    "        ],\n",
    "    }))\n",
    "\n",
    "# ustawmy ją jako aktualną\n",
    "with open(DB_PATH / \"current.json\", \"w\") as f:\n",
    "    f.write(json.dumps({\n",
    "        \"current_conversation_id\": 13,\n",
    "    }))"
   ]
  },
  {
   "cell_type": "markdown",
   "id": "4a8596a7",
   "metadata": {},
   "source": [
    "teraz naszym celem jest wczytanie aktualnej rozmowy i jej historii"
   ]
  },
  {
   "cell_type": "code",
   "execution_count": 9,
   "id": "47f2a46b",
   "metadata": {},
   "outputs": [
    {
     "name": "stdout",
     "output_type": "stream",
     "text": [
      "13 Konwersacja 13\n"
     ]
    }
   ],
   "source": [
    "with open(DB_PATH / \"current.json\", \"r\") as f:\n",
    "    data = json.loads(f.read())\n",
    "    conversation_id = data[\"current_conversation_id\"]\n",
    "\n",
    "with open(DB_CONVERSATIONS_PATH / f\"{conversation_id}.json\", \"r\") as f:\n",
    "    conversation = json.loads(f.read())\n",
    "\n",
    "print(conversation_id, conversation[\"name\"])"
   ]
  },
  {
   "cell_type": "markdown",
   "id": "83029c4b",
   "metadata": {},
   "source": [
    "## Budujemy funkcję która potrafi zbudować wszystkie potrzebne struktury na początku"
   ]
  },
  {
   "cell_type": "code",
   "execution_count": 10,
   "id": "fd85f904",
   "metadata": {},
   "outputs": [],
   "source": [
    "DEFAULT_PERSONALITY = \"\"\"\n",
    "Jesteś pomocnikiem, który odpowiada na wszystkie pytania użytkownika.\n",
    "Odpowiadaj na pytania w sposób zwięzły i zrozumiały.\n",
    "\"\"\".strip()\n",
    "\n",
    "\n",
    "def load_current_conversation():\n",
    "    if not DB_PATH.exists():\n",
    "        DB_PATH.mkdir()\n",
    "        DB_CONVERSATIONS_PATH.mkdir()\n",
    "        conversation_id = 1\n",
    "        conversation = {\n",
    "            \"id\": conversation_id,\n",
    "            \"name\": \"Konwersacja 1\",\n",
    "            \"chatbot_personality\": DEFAULT_PERSONALITY,\n",
    "            \"messages\": [],\n",
    "        }\n",
    "\n",
    "        # tworzymy nową konwersację\n",
    "        with open(DB_CONVERSATIONS_PATH / f\"{conversation_id}.json\", \"w\") as f:\n",
    "            f.write(json.dumps(conversation))\n",
    "\n",
    "        # która od razu staje się aktualną\n",
    "        with open(DB_PATH / \"current.json\", \"w\") as f:\n",
    "            f.write(json.dumps({\n",
    "                \"current_conversation_id\": conversation_id,\n",
    "            }))\n",
    "\n",
    "    else:\n",
    "        # sprawdzamy, która konwersacja jest aktualna\n",
    "        with open(DB_PATH / \"current.json\", \"r\") as f:\n",
    "            data = json.loads(f.read())\n",
    "            conversation_id = data[\"current_conversation_id\"]\n",
    "\n",
    "        # wczytujemy konwersację\n",
    "        with open(DB_CONVERSATIONS_PATH / f\"{conversation_id}.json\", \"r\") as f:\n",
    "            conversation = json.loads(f.read())\n"
   ]
  },
  {
   "cell_type": "markdown",
   "id": "afd1534f",
   "metadata": {},
   "source": [
    "## Jak dodać nową konwersację?\n",
    "\n",
    "Najpierw musimy znaleźć sposób na obliczanie kolejnego ID"
   ]
  },
  {
   "cell_type": "code",
   "execution_count": 11,
   "id": "407ff380",
   "metadata": {},
   "outputs": [
    {
     "data": {
      "text/plain": [
       "14"
      ]
     },
     "execution_count": 11,
     "metadata": {},
     "output_type": "execute_result"
    }
   ],
   "source": [
    "# poszukajmy ID dla naszej kolejnej konwersacji\n",
    "conversation_ids = []\n",
    "for p in DB_CONVERSATIONS_PATH.glob(\"*.json\"):\n",
    "    conversation_ids.append(int(p.stem))\n",
    "\n",
    "# conversation_ids zawiera wszystkie ID konwersacji\n",
    "# następna konwersacja będzie miała ID o 1 większe niż największe\n",
    "conversation_id = max(conversation_ids) + 1\n",
    "conversation_id"
   ]
  },
  {
   "cell_type": "markdown",
   "id": "6bc90e24",
   "metadata": {},
   "source": [
    "kontynuujemy nową konwersację\n"
   ]
  },
  {
   "cell_type": "code",
   "execution_count": 12,
   "id": "e747c36c",
   "metadata": {},
   "outputs": [],
   "source": [
    "conversation = {\n",
    "    \"id\": conversation_id,\n",
    "    \"name\": f\"Konwersacja {conversation_id}\",\n",
    "    \"chatbot_personality\": DEFAULT_PERSONALITY,\n",
    "    \"messages\": [],\n",
    "}"
   ]
  },
  {
   "cell_type": "markdown",
   "id": "bed2a41e",
   "metadata": {},
   "source": [
    "zapisujemy ją do pliku"
   ]
  },
  {
   "cell_type": "code",
   "execution_count": 13,
   "id": "3c57bbb0",
   "metadata": {},
   "outputs": [],
   "source": [
    "# tworzymy nową konwersację\n",
    "with open(DB_CONVERSATIONS_PATH / f\"{conversation_id}.json\", \"w\") as f:\n",
    "    f.write(json.dumps(conversation))"
   ]
  },
  {
   "cell_type": "markdown",
   "id": "47df88f8",
   "metadata": {},
   "source": [
    "i aktualizujemy current.json"
   ]
  },
  {
   "cell_type": "code",
   "execution_count": 14,
   "id": "461e0752",
   "metadata": {},
   "outputs": [],
   "source": [
    "# która od razu staje się aktualną\n",
    "with open(DB_PATH / \"current.json\", \"w\") as f:\n",
    "    f.write(json.dumps({\n",
    "        \"current_conversation_id\": conversation_id,\n",
    "    }))"
   ]
  },
  {
   "cell_type": "markdown",
   "id": "9889ebe5",
   "metadata": {},
   "source": [
    "## Jak podmieniać aktualną konwersację?\n",
    "\n",
    "Powiedzmy, że chcemy podmienić aktualną konwersację na konwersację z ID 2"
   ]
  },
  {
   "cell_type": "code",
   "execution_count": 18,
   "id": "2799ade5",
   "metadata": {},
   "outputs": [],
   "source": [
    "conversation_id = 2"
   ]
  },
  {
   "cell_type": "markdown",
   "id": "94023f02",
   "metadata": {},
   "source": [
    "wczytujemy konwersację z ID 2"
   ]
  },
  {
   "cell_type": "code",
   "execution_count": 19,
   "id": "140cce8c",
   "metadata": {},
   "outputs": [],
   "source": [
    "with open(DB_CONVERSATIONS_PATH / f\"{conversation_id}.json\", \"w\") as f:\n",
    "    f.write(json.dumps(conversation))"
   ]
  },
  {
   "cell_type": "markdown",
   "id": "8dd5a4e9",
   "metadata": {},
   "source": [
    "ustawiamy ją jako aktualną"
   ]
  },
  {
   "cell_type": "code",
   "execution_count": 20,
   "id": "b543ae78",
   "metadata": {},
   "outputs": [],
   "source": [
    "with open(DB_PATH / \"current.json\", \"w\") as f:\n",
    "    f.write(json.dumps({\n",
    "        \"current_conversation_id\": conversation_id,\n",
    "    }))"
   ]
  },
  {
   "cell_type": "markdown",
   "id": "297320df",
   "metadata": {},
   "source": [
    "## Jak wylistować wszystkie konwersacje?"
   ]
  },
  {
   "cell_type": "code",
   "execution_count": 21,
   "id": "7ac9ffc0",
   "metadata": {},
   "outputs": [
    {
     "data": {
      "text/plain": [
       "[{'id': 14, 'name': 'Konwersacja 14'},\n",
       " {'id': 13, 'name': 'Konwersacja 13'},\n",
       " {'id': 14, 'name': 'Konwersacja 14'},\n",
       " {'id': 14, 'name': 'Konwersacja 14'}]"
      ]
     },
     "execution_count": 21,
     "metadata": {},
     "output_type": "execute_result"
    }
   ],
   "source": [
    "conversations = []\n",
    "for p in DB_CONVERSATIONS_PATH.glob(\"*.json\"):\n",
    "    with open(p, \"r\") as f:\n",
    "        conversation = json.loads(f.read())\n",
    "        conversations.append({\n",
    "            \"id\": conversation[\"id\"],\n",
    "            \"name\": conversation[\"name\"],\n",
    "        })\n",
    "\n",
    "conversations"
   ]
  },
  {
   "cell_type": "markdown",
   "id": "6a992421",
   "metadata": {},
   "source": [
    "## Jak zmodifikować istniejącą konwersację?"
   ]
  },
  {
   "cell_type": "code",
   "execution_count": null,
   "id": "e75ef373",
   "metadata": {},
   "outputs": [],
   "source": [
    "conversation_id = 2\n",
    "new_conversation_name = \"Nowa nazwa konwersacji\"\n",
    "\n",
    "with open(DB_CONVERSATIONS_PATH / f\"{conversation_id}.json\", \"r\") as f:\n",
    "    conversation = json.loads(f.read()) # wczytujemy ten plik\n",
    "\n",
    "with open(DB_CONVERSATIONS_PATH / f\"{conversation_id}.json\", \"w\") as f: # tutaj w trybie write nadpisujemy\n",
    "    f.write(json.dumps({\n",
    "        **conversation, # wszystko tak jak poprzednio\n",
    "        \"name\": new_conversation_name, # ale nadpisz mi name \n",
    "    }))"
   ]
  }
 ],
 "metadata": {
  "kernelspec": {
   "display_name": "od_zera_do_ai",
   "language": "python",
   "name": "python3"
  },
  "language_info": {
   "codemirror_mode": {
    "name": "ipython",
    "version": 3
   },
   "file_extension": ".py",
   "mimetype": "text/x-python",
   "name": "python",
   "nbconvert_exporter": "python",
   "pygments_lexer": "ipython3",
   "version": "3.11.11"
  }
 },
 "nbformat": 4,
 "nbformat_minor": 5
}
